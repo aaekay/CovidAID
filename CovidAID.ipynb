{
  "nbformat": 4,
  "nbformat_minor": 0,
  "metadata": {
    "colab": {
      "name": "CovidAID.ipynb",
      "provenance": [],
      "authorship_tag": "ABX9TyOCQo6woIuw2BixlqdAry/P",
      "include_colab_link": true
    },
    "kernelspec": {
      "name": "python3",
      "display_name": "Python 3"
    },
    "accelerator": "GPU"
  },
  "cells": [
    {
      "cell_type": "markdown",
      "metadata": {
        "id": "view-in-github",
        "colab_type": "text"
      },
      "source": [
        "<a href=\"https://colab.research.google.com/github/aaekay/CovidAID/blob/master/CovidAID.ipynb\" target=\"_parent\"><img src=\"https://colab.research.google.com/assets/colab-badge.svg\" alt=\"Open In Colab\"/></a>"
      ]
    },
    {
      "cell_type": "markdown",
      "metadata": {
        "id": "ZV6y4tzLax6J",
        "colab_type": "text"
      },
      "source": [
        "### Enable GPU first"
      ]
    },
    {
      "cell_type": "code",
      "metadata": {
        "id": "mh6Kx4aR_6JY",
        "colab_type": "code",
        "colab": {}
      },
      "source": [
        ""
      ],
      "execution_count": null,
      "outputs": []
    },
    {
      "cell_type": "code",
      "metadata": {
        "id": "_huWwDAtAGS2",
        "colab_type": "code",
        "colab": {}
      },
      "source": [
        "!rm -rf ./CovidAID\n",
        "!git clone --recursive https://github.com/aaekay/CovidAID.git\n",
        "!wget https://sogppg.bl.files.1drv.com/y4m7xCVzOJm2tZO9UttZgEidLVEYUsYqN4zjak7oGSlj9k75JYCOwQNF-NXmkolYeS0oUJ8STXyq5wKG7SHTBXF_uRXefR4FbA0x8-b-lQVHNVqp5Ts72XLkxvG4R6Z_EonfAX-XYeSRpkSgmOVqXGVCCOB-GQAbnxrpi0TdvZB4--kBMLqtLe7ESNTaruxnOpjt7z466AvplCvYc8UtdO86Q\n",
        "!mv /content/y4m7xCVzOJm2tZO9UttZgEidLVEYUsYqN4zjak7oGSlj9k75JYCOwQNF-NXmkolYeS0oUJ8STXyq5wKG7SHTBXF_uRXefR4FbA0x8-b-lQVHNVqp5Ts72XLkxvG4R6Z_EonfAX-XYeSRpkSgmOVqXGVCCOB-GQAbnxrpi0TdvZB4--kBMLqtLe7ESNTaruxnOpjt7z466AvplCvYc8UtdO86Q pneumo.zip\n",
        "!unzip ./pneumo.zip -d ./CovidAID/chest-xray-pneumonia"
      ],
      "execution_count": null,
      "outputs": []
    },
    {
      "cell_type": "code",
      "metadata": {
        "id": "6dOHiUG8Yc2L",
        "colab_type": "code",
        "colab": {}
      },
      "source": [
        "#for installing the torch version 0.3.0\n",
        "!wget https://download.pytorch.org/whl/cu75/torch-0.3.0.post4-cp36-cp36m-linux_x86_64.whl"
      ],
      "execution_count": null,
      "outputs": []
    },
    {
      "cell_type": "code",
      "metadata": {
        "id": "BNW-2tWjYltQ",
        "colab_type": "code",
        "colab": {}
      },
      "source": [
        "!pip install /content/torch-0.3.0.post4-cp36-cp36m-linux_x86_64.whl"
      ],
      "execution_count": null,
      "outputs": []
    },
    {
      "cell_type": "code",
      "metadata": {
        "id": "IJj1gtqsUaAL",
        "colab_type": "code",
        "colab": {}
      },
      "source": [
        "# this is for installing requirements\n",
        "!pip install -r /content/CovidAID/requirements.txt "
      ],
      "execution_count": null,
      "outputs": []
    },
    {
      "cell_type": "code",
      "metadata": {
        "id": "efvmat8xGAUu",
        "colab_type": "code",
        "colab": {}
      },
      "source": [
        "!python3 /content/CovidAID/data_tools/prepare_covid_data.py"
      ],
      "execution_count": null,
      "outputs": []
    },
    {
      "cell_type": "code",
      "metadata": {
        "id": "0TLX_zIvFK3-",
        "colab_type": "code",
        "colab": {}
      },
      "source": [
        "!python3 /content/CovidAID/data_tools/prepare_data.py --combine_pneumonia"
      ],
      "execution_count": null,
      "outputs": []
    },
    {
      "cell_type": "code",
      "metadata": {
        "id": "XJ_HF4b-xl50",
        "colab_type": "code",
        "colab": {}
      },
      "source": [
        "!python3 /content/CovidAID/tools/transfer.py"
      ],
      "execution_count": null,
      "outputs": []
    },
    {
      "cell_type": "code",
      "metadata": {
        "id": "BqthpdkPCLug",
        "colab_type": "code",
        "colab": {}
      },
      "source": [
        ""
      ],
      "execution_count": null,
      "outputs": []
    },
    {
      "cell_type": "code",
      "metadata": {
        "id": "dKbU2qfyC8lm",
        "colab_type": "code",
        "colab": {}
      },
      "source": [
        ""
      ],
      "execution_count": null,
      "outputs": []
    },
    {
      "cell_type": "code",
      "metadata": {
        "id": "4bonNxt0K0Z-",
        "colab_type": "code",
        "colab": {}
      },
      "source": [
        "!python3 ./CovidAID/tools/trainer.py --mode train --freeze --checkpoint ./CovidAID/models/CovidAID_3_class.pth --bs 16 --save ./new_models"
      ],
      "execution_count": null,
      "outputs": []
    },
    {
      "cell_type": "markdown",
      "metadata": {
        "id": "CJVj9pjQt1ja",
        "colab_type": "text"
      },
      "source": [
        "### Now preparing for the covid data set"
      ]
    },
    {
      "cell_type": "code",
      "metadata": {
        "id": "YiYjJ8UbtzkN",
        "colab_type": "code",
        "colab": {}
      },
      "source": [
        "import os\n",
        "import numpy as np\n",
        "import pandas as pd\n",
        "from collections import Counter \n"
      ],
      "execution_count": null,
      "outputs": []
    },
    {
      "cell_type": "code",
      "metadata": {
        "id": "iP39_G19t8YL",
        "colab_type": "code",
        "colab": {}
      },
      "source": [
        "COVID_DATA_PATH='./CovidAID/covid-chestxray-dataset'\n",
        "METADATA_CSV = os.path.join(COVID_DATA_PATH, 'metadata.csv')\n",
        "TRAIN_FILE = './CovidAID/data/covid19/train_list.txt'\n",
        "VAL_FILE = './CovidAID/data/covid19/val_list.txt'\n",
        "TEST_FILE = './CovidAID/data/covid19/test_list.txt'\n"
      ],
      "execution_count": null,
      "outputs": []
    },
    {
      "cell_type": "code",
      "metadata": {
        "id": "udPg8oxct-WU",
        "colab_type": "code",
        "colab": {}
      },
      "source": [
        "# Load patient stats\n",
        "covids = dict()\n",
        "df = pd.read_csv(METADATA_CSV)\n",
        "df = df[(df['finding'] == 'COVID-19') & (df['modality'] == 'X-ray') & (\n",
        "                (df['view'] == 'PA') | (df['view'] == 'AP') | (df['view'] == 'AP Supine')\n",
        "            )]\n",
        "print(df)"
      ],
      "execution_count": null,
      "outputs": []
    },
    {
      "cell_type": "code",
      "metadata": {
        "id": "LfyLsMQuuA27",
        "colab_type": "code",
        "colab": {}
      },
      "source": [
        "patient_ids = Counter(df['patientid'].tolist())\n",
        "covids = {k: v for k, v in sorted(patient_ids.items(), key=lambda item: item[1])}\n",
        "total_data = sum([v for k,v in covids.items()])\n",
        "print (\"Patient-#X-Rays statistics:\")\n",
        "print (covids)\n",
        "print (\"Total Images:\", total_data, '\\n')"
      ],
      "execution_count": null,
      "outputs": []
    },
    {
      "cell_type": "code",
      "metadata": {
        "id": "fmC2fZUgukVU",
        "colab_type": "code",
        "colab": {}
      },
      "source": [
        "# Assign train-val-test split\n",
        "test_patients = set({4, 15, 86, 59, 6, 82, 80, 78, 76, 65, 36, 32, 50, 18, 115, 152, 138, 70, 116})\n",
        "val_patients = set({73, 51, 48, 11, 43, 24, 112})\n"
      ],
      "execution_count": null,
      "outputs": []
    },
    {
      "cell_type": "code",
      "metadata": {
        "id": "_DzDlQMUul80",
        "colab_type": "code",
        "colab": {}
      },
      "source": [
        "print ('#Train patients:', len(set(covids.keys()).difference(test_patients.union(val_patients))))\n",
        "print ('#Test patients:', len(test_patients))\n",
        "print ('#Val patients:', len(val_patients))\n",
        "print ()\n",
        "print ('#Train data points:', sum([v for k, v in covids.items() if int(k) not in test_patients.union(val_patients)]))\n",
        "print ('#Test data points:', sum([v for k, v in covids.items() if int(k) in test_patients]))\n",
        "print ('#Val data points:', sum([v for k, v in covids.items() if int(k) in val_patients]))"
      ],
      "execution_count": null,
      "outputs": []
    },
    {
      "cell_type": "code",
      "metadata": {
        "id": "zGbZHnJBuve9",
        "colab_type": "code",
        "colab": {}
      },
      "source": [
        "# Construct the split lists\n",
        "train_list = []\n",
        "test_list = []\n",
        "val_list = []"
      ],
      "execution_count": null,
      "outputs": []
    },
    {
      "cell_type": "code",
      "metadata": {
        "id": "tvdjf9dkuzjr",
        "colab_type": "code",
        "colab": {}
      },
      "source": [
        "for i, row in df.iterrows():\n",
        "    patient_id = row['patientid']\n",
        "    filename = os.path.join(row['folder'], row['filename'])\n",
        "\n",
        "    if int(patient_id) in test_patients:\n",
        "        test_list.append(filename)\n",
        "    elif int(patient_id) in val_patients:\n",
        "        val_list.append(filename)\n",
        "    else:\n",
        "        train_list.append(filename)\n",
        "\n",
        "print (len(train_list), len(test_list), len(val_list))"
      ],
      "execution_count": null,
      "outputs": []
    },
    {
      "cell_type": "code",
      "metadata": {
        "id": "68W-5zLYu55D",
        "colab_type": "code",
        "colab": {}
      },
      "source": [
        "# Write image list in file\n",
        "def make_img_list(data_file, img_file_list):\n",
        "    with open(data_file, 'w') as f:\n",
        "        for imgfile in img_file_list:\n",
        "            try: \n",
        "                assert os.path.isfile(os.path.join(COVID_DATA_PATH, imgfile))\n",
        "                f.write(\"%s\\n\" % imgfile)\n",
        "            except: \n",
        "                print (\"Image %s NOT FOUND\" % imgfile)"
      ],
      "execution_count": null,
      "outputs": []
    },
    {
      "cell_type": "code",
      "metadata": {
        "id": "A03By7JzvBmM",
        "colab_type": "code",
        "colab": {}
      },
      "source": [
        "make_img_list(TRAIN_FILE, train_list)\n",
        "make_img_list(VAL_FILE, val_list)\n",
        "make_img_list(TEST_FILE, test_list)\n",
        "TRAIN_FILE, train_list"
      ],
      "execution_count": null,
      "outputs": []
    },
    {
      "cell_type": "markdown",
      "metadata": {
        "id": "g8rt09f8vjTU",
        "colab_type": "text"
      },
      "source": [
        "### Prepare combined dataset\n"
      ]
    },
    {
      "cell_type": "code",
      "metadata": {
        "id": "vSG5xslOiEoL",
        "colab_type": "code",
        "colab": {}
      },
      "source": [
        ""
      ],
      "execution_count": null,
      "outputs": []
    }
  ]
}